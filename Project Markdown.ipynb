{
 "cells": [
  {
   "cell_type": "markdown",
   "metadata": {},
   "source": [
    "# <center><u>**Python Project - Exercise Sheet Corrector**</u></center>\n",
    "<center><span style=\"color: gray;\">George Rohan Pottamkulam</span></center>\n",
    "\n",
    "## **Introduction**\n",
    "When diving into my coding project, I wanted to create something not just functional but with a personal touch. Initially considering a run-of-the-mill calculator, I felt it lacked the personalized touch I was aiming for. It seemed like treading a path well-traveled by many before me. That's when I hit upon the idea of an 'Exercise Sheet Corrector.' The concept? An automated wizard that extracts, runs, reads, and grades exercise sheets seamlessly. What makes it stand out for me is not just its practicality and innovation but the ongoing journey throughout the semester. I'm excited about infusing personalized corrections for each exercise, turning it into a project that evolves with me.\n",
    "\n",
    "## **Requirements**\n",
    "\n",
    "To ensure the success of my project, I've outlined a set of straightforward tasks:\n",
    "\n",
    "- **GUI Setup**: Develop a user-friendly GUI for selecting the weekly task zip file. Allow seamless extraction to a chosen destination.\n",
    "\n",
    "- **Student Link**: Connect each ZIP file to the corresponding student's name for clarity in grading.\n",
    "\n",
    "- **Exercise Identification**: Enable the code to recognize exercises based on file names.\n",
    "\n",
    "- **Interactive Checks**: Implement a system for input-output testing to verify correctness.\n",
    "\n",
    "- **Point Assignment**: Create a fair point system, accurately summing up scores for each exercise.\n",
    "\n",
    "- **Manual Check Folder**: Establish a dedicated folder for exercises needing manual inspection, ensuring no detail goes unnoticed.\n",
    "\n",
    "If these tasks are executed smoothly, I would consider the project a success.\n",
    "\n",
    "## **Code**\n",
    "Now that we have a seperation of tasks to be done, then the only remaining step is to implement the steps into python code, which we will proceed with now.\n",
    "\n",
    "### File Explorer GUI for Sheet Extraction\n",
    "As explained, we will need some steps that first initialize and get the exercise sheets ready for processing. That comes now in the first step\n",
    "#### Libraries\n",
    "To begin with the creation of the GUI I would need a variety of libraries. To create the GUI in itself, I found that the best library was the tkinter library. It is very user friendly and there exists plenty of guides on the internet that explain how to use it. I started by importing this library for the GUI aspect:\n"
   ]
  },
  {
   "cell_type": "code",
   "execution_count": null,
   "metadata": {},
   "outputs": [],
   "source": [
    "import tkinter as tk"
   ]
  },
  {
   "cell_type": "markdown",
   "metadata": {},
   "source": [
    "From tkinter, what I am especially interested in is the filedialog module, which helps users navigate through a File explorer GUI. I proceeded to import this module from the library along with messagebox, which helps display error messages:"
   ]
  },
  {
   "cell_type": "code",
   "execution_count": null,
   "metadata": {},
   "outputs": [],
   "source": [
    "from tkinter import filedialog, messagebox"
   ]
  },
  {
   "cell_type": "markdown",
   "metadata": {},
   "source": [
    "Since the students upload the exercise sheets as zip files, I would have to perform extraction and zipping related tasks, which would involve some libary that assists with this task. The internet recommended zipfile to me:"
   ]
  },
  {
   "cell_type": "code",
   "execution_count": null,
   "metadata": {},
   "outputs": [],
   "source": [
    "import zipfile"
   ]
  },
  {
   "cell_type": "markdown",
   "metadata": {},
   "source": [
    "And also, because I work with the operating system, I would have to import a library that allows this, namely the \"os\" library:"
   ]
  },
  {
   "cell_type": "code",
   "execution_count": null,
   "metadata": {},
   "outputs": [],
   "source": [
    "import os"
   ]
  },
  {
   "cell_type": "markdown",
   "metadata": {},
   "source": [
    "#### File Navigator\n",
    "\n",
    "For the sake of not having confusing code when I add onto the python file, I decided to put all my code for the GUI and zipping under the \"def\" function, creating a funtion called \"extract_sheets()\" with the path of the main folder as the parameter in the parenthesis:"
   ]
  },
  {
   "cell_type": "code",
   "execution_count": null,
   "metadata": {},
   "outputs": [],
   "source": [
    "def extract_sheets(parent_folder):"
   ]
  },
  {
   "cell_type": "markdown",
   "metadata": {},
   "source": [
    "As I've learnt from communicating with the course teachers, the exercise sheets are saved in folders with our names and ilias IDs on them. All of these folders are then stored on a parent folder. This parent folder is what the required input parameter for the function would be.\n",
    "\n",
    "Since I have the parent path (I don't have it yet, I have to call this function once I can get it), I first have to have some variable that stores the paths (names) of all the folders within the parent folder. I did this using the os library using their .listdir() function which creates a list of all items in a directory. I created a for loop that runs through every item in this list, and then create a variable that stores the name of each folder joined with the parent folder path called \"folder_path\":"
   ]
  },
  {
   "cell_type": "code",
   "execution_count": null,
   "metadata": {},
   "outputs": [],
   "source": [
    "for folder_name in os.listdir(parent_folder):\n",
    "        folder_path = os.path.join(parent_folder, folder_name)"
   ]
  },
  {
   "cell_type": "markdown",
   "metadata": {},
   "source": [
    "Since .listdir() lists all items in a list, and we are only interested in the directories, so we can open an \"if\" function so that python ignores all non-directories. We can check for directories using the .isdir() function that also comes with os:"
   ]
  },
  {
   "cell_type": "code",
   "execution_count": null,
   "metadata": {},
   "outputs": [],
   "source": [
    "if os.path.isdir(folder_path):"
   ]
  },
  {
   "cell_type": "markdown",
   "metadata": {},
   "source": [
    "Since all the items in the folder that are directories should be the folders with each students' exercise sheets, and we would extract them in the folder itself. I thought it might be a good idea to create a new folder within each folder called \"Already Extracted Sheets\" that would contain the sheets after extracting them so that they would not get extracted a second time if the python code was run again. The .makedirs() function made this possible:"
   ]
  },
  {
   "cell_type": "code",
   "execution_count": null,
   "metadata": {},
   "outputs": [],
   "source": [
    "already_extracted_folder = os.path.join(folder_path, \"Already Extracted Sheets\")\n",
    "os.makedirs(already_extracted_folder, exist_ok=True)"
   ]
  },
  {
   "cell_type": "markdown",
   "metadata": {},
   "source": [
    "On top of this, I also wanted a folder called \"TXT files\" which would have all the txt files which cannot be run and therefore cannot be corrected autmomatically. The same process is used:"
   ]
  },
  {
   "cell_type": "code",
   "execution_count": null,
   "metadata": {},
   "outputs": [],
   "source": [
    "txt_files_folder = os.path.join(folder_path, \"TXT Files\")\n",
    "os.makedirs(txt_files_folder, exist_ok=True)"
   ]
  },
  {
   "cell_type": "markdown",
   "metadata": {},
   "source": [
    "Now that I was inside each individual folder. I needed to extract all the zip files. But I also wanted to make sure that I didn't extract any zip file that wasn't one of the exercise sheets, and for this reason, I had a for loop run through the 5 sheet names that the students (should have) saved their zip files as:"
   ]
  },
  {
   "cell_type": "code",
   "execution_count": null,
   "metadata": {},
   "outputs": [],
   "source": [
    "for sheet_name in [\"sheet01.zip\", \"sheet02.zip\", \"sheet03.zip\", \"sheet04.zip\", \"sheet05.zip\"]:"
   ]
  },
  {
   "cell_type": "markdown",
   "metadata": {},
   "source": [
    "I then created a variable called sheet_zip_path, which attaches all five zip names as extensions to a path. For example, if the path was C:/Users/example/Parent_folder/Student then the paths stored would be C:/Users/example/Parent_folder/Student/sheet01.zip and so on:"
   ]
  },
  {
   "cell_type": "code",
   "execution_count": null,
   "metadata": {},
   "outputs": [],
   "source": [
    "sheet_zip_path = os.path.join(folder_path, sheet_name)"
   ]
  },
  {
   "cell_type": "markdown",
   "metadata": {},
   "source": [
    "Since some of the paths stored on to \"sheet_zip_path\" may not exist on the computer (maybe the code is being run before the last two exercise sheets are submitted or maybe the student named the sheets wrong), we have to use another function to test this with an if statement:"
   ]
  },
  {
   "cell_type": "code",
   "execution_count": null,
   "metadata": {},
   "outputs": [],
   "source": [
    "if os.path.exists(sheet_zip_path):"
   ]
  },
  {
   "cell_type": "markdown",
   "metadata": {},
   "source": [
    "If it exists, then the next step would be to simply unzip it and then move the zip file to the folder we already made so that it is not accidentally unzipped a second time. The unzipping process involved the use of the zipfile package, and required some input such as \"r\" indicating a \"readable\" version. The function was taken off of the package resource website:"
   ]
  },
  {
   "cell_type": "code",
   "execution_count": null,
   "metadata": {},
   "outputs": [],
   "source": [
    " # Extract the contents of the sheet zip file to the folder\n",
    "with zipfile.ZipFile(sheet_zip_path, 'r') as zip_ref:\n",
    "    zip_ref.extractall(folder_path)\n",
    "\n",
    " # Move the extracted sheet zip file to the \"Already Extracted Sheets\" folder\n",
    "already_extracted_path = os.path.join(already_extracted_folder, sheet_name)\n",
    "os.rename(sheet_zip_path, already_extracted_path)\n"
   ]
  },
  {
   "cell_type": "markdown",
   "metadata": {},
   "source": [
    "I then run another for loop with an if statement that checks for .txt endings. If that is the case, then I move it to the \"TXT Files\" folder that I created:"
   ]
  },
  {
   "cell_type": "code",
   "execution_count": null,
   "metadata": {},
   "outputs": [],
   "source": [
    "for extracted_file in os.listdir(folder_path):\n",
    "                        extracted_file_path = os.path.join(folder_path, extracted_file)\n",
    "\n",
    "                        # Check if it's a text file\n",
    "                        if extracted_file.lower().endswith('.txt'):\n",
    "                            # Move the text file to the \"TXT Files\" folder with a modified name\n",
    "                            new_txt_path = os.path.join(txt_files_folder, f\"{sheet_name.replace('.zip', '')}_{extracted_file}\")\n",
    "                            os.rename(extracted_file_path, new_txt_path)"
   ]
  },
  {
   "cell_type": "markdown",
   "metadata": {},
   "source": [
    "Since this entire function that we defined is dependant on the initial parameter (the parent folder path), I also needed to define a function that could ask for this and return the path. Since I wanted to do this with a GUI, I used the filedialog package:"
   ]
  },
  {
   "cell_type": "code",
   "execution_count": null,
   "metadata": {},
   "outputs": [],
   "source": [
    "def select_parent_folder():\n",
    "    parent_folder = filedialog.askdirectory(title=\"Select Parent Folder\")\n",
    "    return parent_folder"
   ]
  },
  {
   "cell_type": "markdown",
   "metadata": {},
   "source": [
    "Using the tkinter package requires a loop to constantly check for things such as the position of the cursor. For this reason, the following input is necessary:"
   ]
  },
  {
   "cell_type": "code",
   "execution_count": null,
   "metadata": {},
   "outputs": [],
   "source": [
    "root = tk.Tk()"
   ]
  },
  {
   "cell_type": "markdown",
   "metadata": {},
   "source": [
    "Since we don't want a main GUI window at other times except for the file explorer, we can hide it by following this up with:"
   ]
  },
  {
   "cell_type": "code",
   "execution_count": null,
   "metadata": {},
   "outputs": [],
   "source": [
    "root.withdraw()"
   ]
  },
  {
   "cell_type": "markdown",
   "metadata": {},
   "source": [
    "Now that we have all our functions defined and loops put together, these functions have to actually be called in order for the code to run:"
   ]
  },
  {
   "cell_type": "code",
   "execution_count": null,
   "metadata": {},
   "outputs": [],
   "source": [
    "parent_folder = select_parent_folder()\n",
    "\n",
    "if parent_folder: # Checks if some folder has been selected using the File Explorer\n",
    "    extract_sheets(parent_folder)\n",
    "else:\n",
    "    print(\"No parent folder selected. Exiting.\") # Creates an else statement in case someone closes the File Explorer without choosing a folder"
   ]
  },
  {
   "cell_type": "markdown",
   "metadata": {},
   "source": [
    "As I reviewed this code. I thought about a mistake that can take place, which is that a file that has already been extracted gets extracted again. For this reason, I needed python to check whether the file being extracted already exists in the \"Already Extracted Files\" folder. If it does, it should skip the extraction and change the name to something else so it does not affect the loop. I used an if statement to check for this and display a message using tkinter's messagebox function:"
   ]
  },
  {
   "cell_type": "code",
   "execution_count": null,
   "metadata": {},
   "outputs": [],
   "source": [
    "if os.path.exists(os.path.join(already_extracted_folder, sheet_name)):\n",
    "                    # Display a message box with a message and an \"Okay\" button\n",
    "                    message = f\"{sheet_name} has already been extracted for {folder_name}. Extraction for this file will be skipped.\"\n",
    "                    messagebox.showinfo(\"Sheet Already Extracted\", message)\n",
    "\n",
    "                    # Rename the sheet zip file to indicate that it was not extracted\n",
    "                    not_extracted_path = os.path.join(folder_path, f\"{sheet_name.replace('.zip', ' (Not extracted).zip')}\")\n",
    "                    os.rename(sheet_zip_path, not_extracted_path)\n",
    "                    \n",
    "                    # Continue with the next sheet\n",
    "                    continue"
   ]
  }
 ],
 "metadata": {
  "kernelspec": {
   "display_name": "Python 3",
   "language": "python",
   "name": "python3"
  },
  "language_info": {
   "name": "python",
   "version": "3.12.0"
  }
 },
 "nbformat": 4,
 "nbformat_minor": 2
}
