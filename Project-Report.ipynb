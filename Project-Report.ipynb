{
 "cells": [
  {
   "cell_type": "markdown",
   "metadata": {},
   "source": [
    "# <center> **Project Report** </center>\n",
    "<center><span style=\"color: #999999;\">By Fe, George, and Husam</span></center>\\n\n",
    "\n",
    "**Welcome to the project report for our python group project!**\n",
    "\n",
    "Before proceeding with the reading of this report, ensure that you have read the contents of the `README.md` file, which gives all the relevant background information and instructions for the running and implementation of the code. For any additional questions in that regard, please use one of the appropriate contact channels mentioned in the `README.md` file. We thank you for your cooperation!\n",
    "\n",
    "## Motivation\n",
    "\n",
    "The motivation for this project materialized upon the realization that the python code submitted by students were manually correct, sheet by sheet, by the teachers of the course. This was especially enduring due to the fact that it was a beginners course, meaning a lot more effort compared to other courses. For this reason, it felt intuitive to at least not have to endure the additional step of going through the content that could already be confirmed to be correct. The goal of this project was to make the correction process lighter.\n",
    "\n",
    "## Summary of Working\n",
    "\n",
    "The code functions in three main steps and one cleanup step:\n",
    "\n",
    "1. **Organisation**: This step involved identifying the folder structure, looking for the relevant exercise sheets as zip files, unzipping them, identifying the exercises in there, and setting them up for correction/grading.\n",
    "\n",
    "2. **Grading/Correcting**: This involved the actual work on the exercise sheets. Mainly conducting specific checks based on the details of the task. The checking stemmed down to a `statement`. When it was `True`, the exercise passed, and when it was `False`, the exercise failed.\n",
    "\n",
    "3. **Grading and sorting**: This was the final step before cleanup, where, based on whether the exercise sheet passed or failed (whether `statement` was `True` or `False`, the points are inputted into a `Points_Log.txt` and the exercise sheet moves to a folder, named based on whether it is successful or unsuccessful). If it was unsucessful, it moves to a folder for manual correction.\n",
    "\n",
    "4. **Cleanup**: It deleted typically remaining folders like `__MACOSX` (remnants from extracting zip files zipped with Apple&trade; ) and `__pycache__` (containing pre-compiled data to make it easier for IDE's to run the code. We will not need it for the correction, so we also delete it). It then scans for files that the system could not recognize as an exercise sheet, and moves it to a seperate folder for `Unrecognized sheets`.\n",
    "\n",
    "## Ground code\n",
    "\n",
    "### Function: select_parent_folder()\n",
    "\n",
    "The first step of the entire process is to collect a mother directory. This is the directory which will contain several child folders with exercise sheets in them. The code for it was simple, and just used the tkinter `filedialog` function built exactly for this purpose:\n"
   ]
  },
  {
   "cell_type": "code",
   "execution_count": null,
   "metadata": {},
   "outputs": [],
   "source": [
    "def select_parent_folder():\n",
    "    parent_folder = filedialog.askdirectory(title=\"Select Parent Folder\")\n",
    "    return parent_folder"
   ]
  },
  {
   "cell_type": "markdown",
   "metadata": {},
   "source": [
    "This opens the system file explorer that allows navigation within the files and folders of the PC. This is stored in a variable:"
   ]
  },
  {
   "cell_type": "code",
   "execution_count": null,
   "metadata": {},
   "outputs": [],
   "source": [
    "parent_folder = select_parent_folder()"
   ]
  },
  {
   "cell_type": "markdown",
   "metadata": {},
   "source": [
    "It is very possible that when the file explorer opens, the user can simply exit the explorer and not select a file. For that reason, we carry out the extraction process only if a folder has been clicked (by using an `if` string):"
   ]
  },
  {
   "cell_type": "code",
   "execution_count": null,
   "metadata": {},
   "outputs": [],
   "source": [
    "if parent_folder:\n",
    "    extract_sheets(parent_folder)"
   ]
  },
  {
   "cell_type": "markdown",
   "metadata": {},
   "source": [
    "### Function: "
   ]
  }
 ],
 "metadata": {
  "language_info": {
   "name": "python"
  }
 },
 "nbformat": 4,
 "nbformat_minor": 2
}
